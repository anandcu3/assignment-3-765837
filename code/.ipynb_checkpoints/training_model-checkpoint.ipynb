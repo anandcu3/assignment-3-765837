{
 "cells": [
  {
   "cell_type": "code",
   "execution_count": null,
   "metadata": {
    "collapsed": true
   },
   "outputs": [],
   "source": [
    "import pyspark\n",
    "\n",
    "sc = pyspark.sql.SparkSession.builder.appName(\"nycApp\").getOrCreate()"
   ]
  },
  {
   "cell_type": "code",
   "execution_count": 2,
   "metadata": {},
   "outputs": [
    {
     "data": {
      "text/plain": [
       "['VendorID',\n",
       " 'tpep_pickup_datetime',\n",
       " 'tpep_dropoff_datetime',\n",
       " 'passenger_count',\n",
       " 'trip_distance',\n",
       " 'RatecodeID',\n",
       " 'store_and_fwd_flag',\n",
       " 'PULocationID',\n",
       " 'DOLocationID',\n",
       " 'payment_type',\n",
       " 'fare_amount',\n",
       " 'extra',\n",
       " 'mta_tax',\n",
       " 'tip_amount',\n",
       " 'tolls_amount',\n",
       " 'improvement_surcharge',\n",
       " 'total_amount']"
      ]
     },
     "execution_count": 2,
     "metadata": {},
     "output_type": "execute_result"
    }
   ],
   "source": [
    "textFile = sc.read.csv(\"hdfs://cluster-9bfd-m/hadoop/data.csv\", header=True, inferSchema=True)\n",
    "type(textFile)"
   ]
  },
  {
   "cell_type": "code",
   "execution_count": 13,
   "metadata": {},
   "outputs": [
    {
     "data": {
      "text/html": [
       "<div>\n",
       "<style scoped>\n",
       "    .dataframe tbody tr th:only-of-type {\n",
       "        vertical-align: middle;\n",
       "    }\n",
       "\n",
       "    .dataframe tbody tr th {\n",
       "        vertical-align: top;\n",
       "    }\n",
       "\n",
       "    .dataframe thead th {\n",
       "        text-align: right;\n",
       "    }\n",
       "</style>\n",
       "<table border=\"1\" class=\"dataframe\">\n",
       "  <thead>\n",
       "    <tr style=\"text-align: right;\">\n",
       "      <th></th>\n",
       "      <th>0</th>\n",
       "      <th>1</th>\n",
       "      <th>2</th>\n",
       "      <th>3</th>\n",
       "      <th>4</th>\n",
       "    </tr>\n",
       "  </thead>\n",
       "  <tbody>\n",
       "    <tr>\n",
       "      <th>summary</th>\n",
       "      <td>count</td>\n",
       "      <td>mean</td>\n",
       "      <td>stddev</td>\n",
       "      <td>min</td>\n",
       "      <td>max</td>\n",
       "    </tr>\n",
       "    <tr>\n",
       "      <th>VendorID</th>\n",
       "      <td>999999</td>\n",
       "      <td>1.61011761011761</td>\n",
       "      <td>0.5280269232650342</td>\n",
       "      <td>1</td>\n",
       "      <td>4</td>\n",
       "    </tr>\n",
       "    <tr>\n",
       "      <th>tpep_pickup_datetime</th>\n",
       "      <td>999999</td>\n",
       "      <td>None</td>\n",
       "      <td>None</td>\n",
       "      <td>01/01/2009 08:03:22 AM</td>\n",
       "      <td>12/31/2008 11:02:25 PM</td>\n",
       "    </tr>\n",
       "    <tr>\n",
       "      <th>tpep_dropoff_datetime</th>\n",
       "      <td>999999</td>\n",
       "      <td>None</td>\n",
       "      <td>None</td>\n",
       "      <td>01/01/2009 08:09:22 AM</td>\n",
       "      <td>12/31/2008 11:11:13 PM</td>\n",
       "    </tr>\n",
       "    <tr>\n",
       "      <th>passenger_count</th>\n",
       "      <td>999999</td>\n",
       "      <td>1.5713355713355714</td>\n",
       "      <td>1.2233028996495432</td>\n",
       "      <td>0</td>\n",
       "      <td>9</td>\n",
       "    </tr>\n",
       "    <tr>\n",
       "      <th>trip_distance</th>\n",
       "      <td>999999</td>\n",
       "      <td>2.9348390448390447</td>\n",
       "      <td>3.7609906361714622</td>\n",
       "      <td>0.0</td>\n",
       "      <td>145.7</td>\n",
       "    </tr>\n",
       "    <tr>\n",
       "      <th>RatecodeID</th>\n",
       "      <td>999999</td>\n",
       "      <td>1.0482510482510483</td>\n",
       "      <td>0.5874925777964289</td>\n",
       "      <td>1</td>\n",
       "      <td>99</td>\n",
       "    </tr>\n",
       "    <tr>\n",
       "      <th>store_and_fwd_flag</th>\n",
       "      <td>999999</td>\n",
       "      <td>None</td>\n",
       "      <td>None</td>\n",
       "      <td>N</td>\n",
       "      <td>Y</td>\n",
       "    </tr>\n",
       "    <tr>\n",
       "      <th>PULocationID</th>\n",
       "      <td>999999</td>\n",
       "      <td>163.13445413445413</td>\n",
       "      <td>66.31544034068634</td>\n",
       "      <td>1</td>\n",
       "      <td>265</td>\n",
       "    </tr>\n",
       "    <tr>\n",
       "      <th>DOLocationID</th>\n",
       "      <td>999999</td>\n",
       "      <td>161.3028653028653</td>\n",
       "      <td>70.08133215405032</td>\n",
       "      <td>1</td>\n",
       "      <td>265</td>\n",
       "    </tr>\n",
       "    <tr>\n",
       "      <th>payment_type</th>\n",
       "      <td>999999</td>\n",
       "      <td>1.2947102947102946</td>\n",
       "      <td>0.4769238764820828</td>\n",
       "      <td>1</td>\n",
       "      <td>4</td>\n",
       "    </tr>\n",
       "    <tr>\n",
       "      <th>fare_amount</th>\n",
       "      <td>999999</td>\n",
       "      <td>13.474059344059295</td>\n",
       "      <td>11.842799435975332</td>\n",
       "      <td>-300.0</td>\n",
       "      <td>1500.0</td>\n",
       "    </tr>\n",
       "    <tr>\n",
       "      <th>extra</th>\n",
       "      <td>999999</td>\n",
       "      <td>0.39112409112409097</td>\n",
       "      <td>0.4950065690305704</td>\n",
       "      <td>-80.0</td>\n",
       "      <td>18.5</td>\n",
       "    </tr>\n",
       "    <tr>\n",
       "      <th>mta_tax</th>\n",
       "      <td>999999</td>\n",
       "      <td>0.49717786717786716</td>\n",
       "      <td>0.09090037623715057</td>\n",
       "      <td>-0.5</td>\n",
       "      <td>80.8</td>\n",
       "    </tr>\n",
       "    <tr>\n",
       "      <th>tip_amount</th>\n",
       "      <td>999999</td>\n",
       "      <td>1.9502819802816194</td>\n",
       "      <td>2.648562814444321</td>\n",
       "      <td>-0.95</td>\n",
       "      <td>352.26</td>\n",
       "    </tr>\n",
       "    <tr>\n",
       "      <th>tolls_amount</th>\n",
       "      <td>999999</td>\n",
       "      <td>0.33831390831392166</td>\n",
       "      <td>1.7276519893660538</td>\n",
       "      <td>-15.5</td>\n",
       "      <td>767.66</td>\n",
       "    </tr>\n",
       "    <tr>\n",
       "      <th>improvement_surcharge</th>\n",
       "      <td>999999</td>\n",
       "      <td>0.29946479946514637</td>\n",
       "      <td>0.01721493983091058</td>\n",
       "      <td>-0.3</td>\n",
       "      <td>0.3</td>\n",
       "    </tr>\n",
       "    <tr>\n",
       "      <th>total_amount</th>\n",
       "      <td>999999</td>\n",
       "      <td>16.95448516442526</td>\n",
       "      <td>14.472052772794276</td>\n",
       "      <td>-306.06</td>\n",
       "      <td>1500.0</td>\n",
       "    </tr>\n",
       "  </tbody>\n",
       "</table>\n",
       "</div>"
      ],
      "text/plain": [
       "                            0                    1                    2  \\\n",
       "summary                 count                 mean               stddev   \n",
       "VendorID               999999     1.61011761011761   0.5280269232650342   \n",
       "tpep_pickup_datetime   999999                 None                 None   \n",
       "tpep_dropoff_datetime  999999                 None                 None   \n",
       "passenger_count        999999   1.5713355713355714   1.2233028996495432   \n",
       "trip_distance          999999   2.9348390448390447   3.7609906361714622   \n",
       "RatecodeID             999999   1.0482510482510483   0.5874925777964289   \n",
       "store_and_fwd_flag     999999                 None                 None   \n",
       "PULocationID           999999   163.13445413445413    66.31544034068634   \n",
       "DOLocationID           999999    161.3028653028653    70.08133215405032   \n",
       "payment_type           999999   1.2947102947102946   0.4769238764820828   \n",
       "fare_amount            999999   13.474059344059295   11.842799435975332   \n",
       "extra                  999999  0.39112409112409097   0.4950065690305704   \n",
       "mta_tax                999999  0.49717786717786716  0.09090037623715057   \n",
       "tip_amount             999999   1.9502819802816194    2.648562814444321   \n",
       "tolls_amount           999999  0.33831390831392166   1.7276519893660538   \n",
       "improvement_surcharge  999999  0.29946479946514637  0.01721493983091058   \n",
       "total_amount           999999    16.95448516442526   14.472052772794276   \n",
       "\n",
       "                                            3                       4  \n",
       "summary                                   min                     max  \n",
       "VendorID                                    1                       4  \n",
       "tpep_pickup_datetime   01/01/2009 08:03:22 AM  12/31/2008 11:02:25 PM  \n",
       "tpep_dropoff_datetime  01/01/2009 08:09:22 AM  12/31/2008 11:11:13 PM  \n",
       "passenger_count                             0                       9  \n",
       "trip_distance                             0.0                   145.7  \n",
       "RatecodeID                                  1                      99  \n",
       "store_and_fwd_flag                          N                       Y  \n",
       "PULocationID                                1                     265  \n",
       "DOLocationID                                1                     265  \n",
       "payment_type                                1                       4  \n",
       "fare_amount                            -300.0                  1500.0  \n",
       "extra                                   -80.0                    18.5  \n",
       "mta_tax                                  -0.5                    80.8  \n",
       "tip_amount                              -0.95                  352.26  \n",
       "tolls_amount                            -15.5                  767.66  \n",
       "improvement_surcharge                    -0.3                     0.3  \n",
       "total_amount                          -306.06                  1500.0  "
      ]
     },
     "execution_count": 13,
     "metadata": {},
     "output_type": "execute_result"
    }
   ],
   "source": [
    "textFile.describe().toPandas().transpose()"
   ]
  },
  {
   "cell_type": "code",
   "execution_count": 20,
   "metadata": {},
   "outputs": [
    {
     "name": "stdout",
     "output_type": "stream",
     "text": [
      "('Correlation to fare_amount for ', 'VendorID', 0.019910980878610728)\n",
      "('Correlation to fare_amount for ', 'passenger_count', 0.010266885823951181)\n",
      "('Correlation to fare_amount for ', 'trip_distance', 0.8777629936177405)\n",
      "('Correlation to fare_amount for ', 'RatecodeID', 0.31760236896936894)\n",
      "('Correlation to fare_amount for ', 'PULocationID', -0.07810575071390112)\n",
      "('Correlation to fare_amount for ', 'DOLocationID', -0.08412606682886188)\n",
      "('Correlation to fare_amount for ', 'payment_type', -0.04881366234971991)\n",
      "('Correlation to fare_amount for ', 'fare_amount', 1.0)\n",
      "('Correlation to fare_amount for ', 'extra', 0.0797798356206394)\n",
      "('Correlation to fare_amount for ', 'mta_tax', -0.07833575703293015)\n",
      "('Correlation to fare_amount for ', 'tip_amount', 0.529505958926563)\n",
      "('Correlation to fare_amount for ', 'tolls_amount', 0.5186725089550704)\n",
      "('Correlation to fare_amount for ', 'improvement_surcharge', 0.04126331636064961)\n",
      "('Correlation to fare_amount for ', 'total_amount', 0.9795476146332738)\n"
     ]
    }
   ],
   "source": [
    "import six\n",
    "for i in textFile.columns:\n",
    "    if not( isinstance(textFile.select(i).take(1)[0][0], six.string_types)):\n",
    "        print( \"Correlation to fare_amount for \", i, textFile.stat.corr('fare_amount',i))"
   ]
  },
  {
   "cell_type": "code",
   "execution_count": 23,
   "metadata": {
    "collapsed": true
   },
   "outputs": [],
   "source": [
    "from pyspark.ml.feature import VectorAssembler\n",
    "from pyspark.ml.evaluation import RegressionEvaluator\n",
    "lr_evaluator = RegressionEvaluator(predictionCol=\"prediction\", labelCol=\"fare_amount\",metricName=\"r2\")\n",
    "\n",
    "vectorAssembler = VectorAssembler(inputCols = ['VendorID', 'passenger_count', 'trip_distance', 'RatecodeID'], outputCol = 'features')\n",
    "vhouse_df = vectorAssembler.transform(textFile)\n",
    "vhouse_df = vhouse_df.select(['features', 'fare_amount'])\n",
    "splits = vhouse_df.randomSplit([0.8, 0.2])\n",
    "train_df = splits[0]\n",
    "test_df = splits[1]"
   ]
  },
  {
   "cell_type": "code",
   "execution_count": 24,
   "metadata": {},
   "outputs": [
    {
     "name": "stdout",
     "output_type": "stream",
     "text": [
      "Coefficients: [0.0,0.0,2.603549051194268,2.625981550486407]\n",
      "Intercept: 3.08265850956\n",
      "+-----------------+-----------+-----------------+\n",
      "|       prediction|fare_amount|         features|\n",
      "+-----------------+-----------+-----------------+\n",
      "|5.708640060045765|        2.5|[1.0,0.0,0.0,1.0]|\n",
      "|5.708640060045765|        2.5|[1.0,0.0,0.0,1.0]|\n",
      "|5.708640060045765|        2.5|[1.0,0.0,0.0,1.0]|\n",
      "|5.708640060045765|        2.5|[1.0,0.0,0.0,1.0]|\n",
      "|5.708640060045765|        2.5|[1.0,0.0,0.0,1.0]|\n",
      "+-----------------+-----------+-----------------+\n",
      "only showing top 5 rows\n",
      "\n",
      "R Squared (R2) on test data = 0.811582\n",
      "Root Mean Squared Error (RMSE) on test data = 5.0204\n"
     ]
    }
   ],
   "source": [
    "from pyspark.ml.regression import LinearRegression\n",
    "lr = LinearRegression(featuresCol = 'features', labelCol='fare_amount', maxIter=10, regParam=0.3, elasticNetParam=0.8)\n",
    "lr_model = lr.fit(train_df)\n",
    "print(\"Coefficients: \" + str(lr_model.coefficients))\n",
    "print(\"Intercept: \" + str(lr_model.intercept))\n",
    "lr_predictions = lr_model.transform(test_df)=\n",
    "test_result = lr_model.evaluate(test_df)\n",
    "print(\"Root Mean Squared Error (RMSE) on test data = %g\" % test_result.rootMeanSquaredError)"
   ]
  },
  {
   "cell_type": "code",
   "execution_count": 17,
   "metadata": {},
   "outputs": [
    {
     "name": "stdout",
     "output_type": "stream",
     "text": [
      "Root Mean Squared Error (RMSE) on test data = 4.55615\n"
     ]
    }
   ],
   "source": [
    "from pyspark.ml.regression import DecisionTreeRegressor\n",
    "dt = DecisionTreeRegressor(featuresCol ='features', labelCol = 'fare_amount')\n",
    "dt_model = dt.fit(train_df)\n",
    "dt_predictions = dt_model.transform(test_df)\n",
    "dt_evaluator = RegressionEvaluator(labelCol=\"fare_amount\", predictionCol=\"prediction\", metricName=\"rmse\")\n",
    "rmse = dt_evaluator.evaluate(dt_predictions)\n",
    "print(\"Root Mean Squared Error (RMSE) on test data = %g\" % rmse)"
   ]
  },
  {
   "cell_type": "code",
   "execution_count": 18,
   "metadata": {},
   "outputs": [
    {
     "name": "stdout",
     "output_type": "stream",
     "text": [
      "Root Mean Squared Error (RMSE) on test data = 4.62678\n"
     ]
    }
   ],
   "source": [
    "from pyspark.ml.regression import GBTRegressor\n",
    "gbt = GBTRegressor(featuresCol = 'features', labelCol = 'fare_amount', maxIter=10)\n",
    "gbt_model = gbt.fit(train_df)\n",
    "gbt_predictions = gbt_model.transform(test_df)\n",
    "gbt_evaluator = RegressionEvaluator(\n",
    "    labelCol=\"fare_amount\", predictionCol=\"prediction\", metricName=\"rmse\")\n",
    "rmse = gbt_evaluator.evaluate(gbt_predictions)\n",
    "print(\"Root Mean Squared Error (RMSE) on test data = %g\" % rmse)"
   ]
  }
 ],
 "metadata": {
  "kernelspec": {
   "display_name": "Python 3",
   "language": "python",
   "name": "python3"
  },
  "language_info": {
   "codemirror_mode": {
    "name": "ipython",
    "version": 3
   },
   "file_extension": ".py",
   "mimetype": "text/x-python",
   "name": "python",
   "nbconvert_exporter": "python",
   "pygments_lexer": "ipython3",
   "version": "3.5.6"
  }
 },
 "nbformat": 4,
 "nbformat_minor": 2
}
